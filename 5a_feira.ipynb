{
  "nbformat": 4,
  "nbformat_minor": 0,
  "metadata": {
    "colab": {
      "name": "5a_feira.ipynb",
      "version": "0.3.2",
      "provenance": [],
      "include_colab_link": true
    },
    "kernelspec": {
      "display_name": "Python 2",
      "language": "python",
      "name": "python2"
    }
  },
  "cells": [
    {
      "cell_type": "markdown",
      "metadata": {
        "id": "view-in-github",
        "colab_type": "text"
      },
      "source": [
        "<a href=\"https://colab.research.google.com/github/viniciusdssilva/mestrado/blob/master/5a_feira.ipynb\" target=\"_parent\"><img src=\"https://colab.research.google.com/assets/colab-badge.svg\" alt=\"Open In Colab\"/></a>"
      ]
    },
    {
      "metadata": {
        "id": "bhzOoXBxGIya",
        "colab_type": "text"
      },
      "cell_type": "markdown",
      "source": [
        "<h1 align=\"center\">Aula 4</h1>\n",
        "\n",
        "## Conteúdo\n",
        "\n",
        "- Entrada e saída (2): Web\n",
        "- Problema: Estruturando dados\n",
        "- Classes e objetos\n",
        "- Desafio: ?"
      ]
    },
    {
      "metadata": {
        "id": "gkGPEOVZGIyj",
        "colab_type": "text"
      },
      "cell_type": "markdown",
      "source": [
        "## Entrada e saída (2): Web"
      ]
    },
    {
      "metadata": {
        "id": "jz0hyUf_GIym",
        "colab_type": "text"
      },
      "cell_type": "markdown",
      "source": [
        "Podemos adquirir ou enviar dados de algum endereço na Web, usando a biblioteca requests:"
      ]
    },
    {
      "metadata": {
        "id": "KUodBLBDGIyp",
        "colab_type": "code",
        "outputId": "fba0f796-ab3f-400b-eb77-26f97c252ea8",
        "colab": {
          "base_uri": "https://localhost:8080/",
          "height": 35
        }
      },
      "cell_type": "code",
      "source": [
        "import requests\n",
        "\n",
        "parameters = {\"term1\": \"dog\", \n",
        "              \"term2\": \"wolf\", \n",
        "              \"pos1\": \"noun\", \n",
        "              \"pos2\": \"noun\"}\n",
        "\n",
        "url = \"http://labcores.ppgi.ufrj.br/tdv/similarity\"\n",
        "req = requests.get(url, params=parameters)\n",
        "req.json()\n"
      ],
      "execution_count": 0,
      "outputs": [
        {
          "output_type": "execute_result",
          "data": {
            "text/plain": [
              "0.6"
            ]
          },
          "metadata": {
            "tags": []
          },
          "execution_count": 2
        }
      ]
    },
    {
      "metadata": {
        "id": "0KhUVVkdGIy5",
        "colab_type": "code",
        "outputId": "5f09b952-9695-4239-fba2-c86543e3cc6d",
        "colab": {
          "base_uri": "https://localhost:8080/",
          "height": 35
        }
      },
      "cell_type": "code",
      "source": [
        "parameters = {\"term1\": \"happy\", \"term2\": \"joyful\", \n",
        "              \"pos1\": \"adjective\", \"pos2\": \"adjective\"}\n",
        "req = requests.get(url, params=parameters)\n",
        "req.json()"
      ],
      "execution_count": 0,
      "outputs": [
        {
          "output_type": "execute_result",
          "data": {
            "text/plain": [
              "0.707107"
            ]
          },
          "metadata": {
            "tags": []
          },
          "execution_count": 13
        }
      ]
    },
    {
      "metadata": {
        "id": "STsVal-CGIzD",
        "colab_type": "text"
      },
      "cell_type": "markdown",
      "source": [
        "## Problema: Estruturando dados"
      ]
    },
    {
      "metadata": {
        "id": "wDeDNxwfGIzF",
        "colab_type": "text"
      },
      "cell_type": "markdown",
      "source": [
        "Precisamos resolver o seguinte problema:\n",
        "Temos uma lista de alunos (matricula e nome) que precisam ser inscritos nos cursos, que estão registrados em outra lista (nome, professor e dependências). Além disso, os alunos precisam ter suas notas lançadas para cada disciplina.\n",
        "\n",
        "Como implementar as estruturas necessárias em Python?"
      ]
    },
    {
      "metadata": {
        "id": "rtpXv0tYGIzG",
        "colab_type": "code",
        "colab": {}
      },
      "cell_type": "code",
      "source": [
        ""
      ],
      "execution_count": 0,
      "outputs": []
    },
    {
      "metadata": {
        "id": "EzgSBc31GIzO",
        "colab_type": "text"
      },
      "cell_type": "markdown",
      "source": [
        "## Classes e objetos"
      ]
    },
    {
      "metadata": {
        "id": "PROetbgcGIzU",
        "colab_type": "text"
      },
      "cell_type": "markdown",
      "source": [
        "Aprendemos a estruturar dados usando dicionários, que são bastante flexíveis e práticos. Mas precisamos de algo mais rígido para ajudar a organizar nossas estruturas de dados e reduzir erros de programação."
      ]
    },
    {
      "metadata": {
        "id": "Ytp0vuBaGIzV",
        "colab_type": "code",
        "colab": {}
      },
      "cell_type": "code",
      "source": [
        "aluno = {\"nome\": \"Joãozinho\", \"curso\": \"Estr. de Dados e Algoritmos\", \"matricula\": 12345678}\n",
        "\n",
        "aluno[\"nome\"]\n",
        "aluno[\"curso \"]\n",
        "# Ops!"
      ],
      "execution_count": 0,
      "outputs": []
    },
    {
      "metadata": {
        "id": "Ia1AGXLdGIzg",
        "colab_type": "text"
      },
      "cell_type": "markdown",
      "source": [
        "Para resolver isso, precisamos criar nossos próprios tipos, com campos específicos:"
      ]
    },
    {
      "metadata": {
        "id": "vU-CD8z_GIzl",
        "colab_type": "code",
        "colab": {}
      },
      "cell_type": "code",
      "source": [
        "class Aluno:\n",
        "    def __init__(self):  # Construtor da classe\n",
        "        self.nome = \"\"   # Atributo da classe\n",
        "        self.curso = \"\"\n",
        "        self.matricula = 0\n",
        "        \n",
        "aluno = Aluno()"
      ],
      "execution_count": 0,
      "outputs": []
    },
    {
      "metadata": {
        "id": "lFG3e3J8GIzq",
        "colab_type": "code",
        "outputId": "90f32ae4-b72a-4a64-c959-f727be128900",
        "colab": {}
      },
      "cell_type": "code",
      "source": [
        "import math\n",
        "\n",
        "class Retangulo:\n",
        "    def __init__(self, largura, altura):  \n",
        "        self.largura = largura\n",
        "        self.altura = altura\n",
        "    \n",
        "    def area(self):  # Método da classe\n",
        "        return self.largura * self.altura\n",
        "    \n",
        "    def diagonal(self):\n",
        "        return math.sqrt(self.largura ** 2 + self.altura ** 2)\n",
        "    \n",
        "    \n",
        "class Quadrado(Retangulo):  # Quadrado é um subtipo de Retangulo\n",
        "    def __init__(self, lado):\n",
        "        self.largura = lado\n",
        "        self.altura = lado\n",
        "        \n",
        "\n",
        "ret = Retangulo(3, 4)\n",
        "print(ret.area())\n",
        "print(ret.diagonal())\n",
        "\n",
        "quad = Quadrado(1)\n",
        "print(quad.area())\n",
        "print(quad.diagonal())"
      ],
      "execution_count": 0,
      "outputs": [
        {
          "output_type": "stream",
          "text": [
            "12\n",
            "5.0\n",
            "1\n",
            "1.41421356237\n"
          ],
          "name": "stdout"
        }
      ]
    },
    {
      "metadata": {
        "id": "WtBC2mcUGQVk",
        "colab_type": "text"
      },
      "cell_type": "markdown",
      "source": [
        "## Desafio: ?"
      ]
    },
    {
      "metadata": {
        "id": "nQlt-Ml0GV-i",
        "colab_type": "text"
      },
      "cell_type": "markdown",
      "source": [
        ""
      ]
    },
    {
      "metadata": {
        "id": "qWQceRSZGSZU",
        "colab_type": "code",
        "colab": {}
      },
      "cell_type": "code",
      "source": [
        ""
      ],
      "execution_count": 0,
      "outputs": []
    }
  ]
}