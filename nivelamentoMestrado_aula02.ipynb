{
  "nbformat": 4,
  "nbformat_minor": 0,
  "metadata": {
    "colab": {
      "name": "nivelamentoMestrado_aula02.ipynb",
      "version": "0.3.2",
      "provenance": [],
      "include_colab_link": true
    },
    "kernelspec": {
      "name": "python3",
      "display_name": "Python 3"
    }
  },
  "cells": [
    {
      "cell_type": "markdown",
      "metadata": {
        "id": "view-in-github",
        "colab_type": "text"
      },
      "source": [
        "<a href=\"https://colab.research.google.com/github/viniciusdssilva/mestrado/blob/master/nivelamentoMestrado_aula02.ipynb\" target=\"_parent\"><img src=\"https://colab.research.google.com/assets/colab-badge.svg\" alt=\"Open In Colab\"/></a>"
      ]
    },
    {
      "metadata": {
        "id": "-v-nQAvSP10w",
        "colab_type": "code",
        "colab": {}
      },
      "cell_type": "code",
      "source": [
        "lista = [1,1,2,3,5,8,13,21,34,55]"
      ],
      "execution_count": 0,
      "outputs": []
    },
    {
      "metadata": {
        "id": "K4Q7WO0nRu1a",
        "colab_type": "code",
        "outputId": "960d918d-9c1f-4377-d100-1929fed0146e",
        "colab": {
          "base_uri": "https://localhost:8080/",
          "height": 34
        }
      },
      "cell_type": "code",
      "source": [
        "# Forma mais simples (em comparação com o método da aula 1) para calcular somatório de uma lista \n",
        "sum(lista)"
      ],
      "execution_count": 0,
      "outputs": [
        {
          "output_type": "execute_result",
          "data": {
            "text/plain": [
              "143"
            ]
          },
          "metadata": {
            "tags": []
          },
          "execution_count": 3
        }
      ]
    },
    {
      "metadata": {
        "id": "b5RNVmSZRzQc",
        "colab_type": "code",
        "outputId": "87411303-df3d-44a0-d17a-8877e1dec5a7",
        "colab": {
          "base_uri": "https://localhost:8080/",
          "height": 34
        }
      },
      "cell_type": "code",
      "source": [
        "# Forma mais simples (em comparação com o método da aula 1) para verificar se um item pertence a uma lista\n",
        "21 in lista"
      ],
      "execution_count": 0,
      "outputs": [
        {
          "output_type": "execute_result",
          "data": {
            "text/plain": [
              "True"
            ]
          },
          "metadata": {
            "tags": []
          },
          "execution_count": 4
        }
      ]
    },
    {
      "metadata": {
        "id": "aAO2_DgGSTPI",
        "colab_type": "code",
        "outputId": "f453b0c7-57ab-4e63-ed2a-859a118fff12",
        "colab": {
          "base_uri": "https://localhost:8080/",
          "height": 34
        }
      },
      "cell_type": "code",
      "source": [
        "item = 21\n",
        "\n",
        "encontrei = item in lista\n",
        "\n",
        "if(encontrei):\n",
        "  print(\"Item\", item, \"encontrado.\")\n",
        "else:\n",
        "  print(\"Item\", item, \"não encontrado.\")\n",
        "  "
      ],
      "execution_count": 0,
      "outputs": [
        {
          "output_type": "stream",
          "text": [
            "Item 21 encontrado.\n"
          ],
          "name": "stdout"
        }
      ]
    },
    {
      "metadata": {
        "id": "DKMqh_JwSzHg",
        "colab_type": "code",
        "outputId": "db3dffe5-65a1-4c53-cf39-eaf9c13e821d",
        "colab": {
          "base_uri": "https://localhost:8080/",
          "height": 34
        }
      },
      "cell_type": "code",
      "source": [
        "# Índice de um elemento em uma lista\n",
        "lista.index(13)"
      ],
      "execution_count": 0,
      "outputs": [
        {
          "output_type": "execute_result",
          "data": {
            "text/plain": [
              "6"
            ]
          },
          "metadata": {
            "tags": []
          },
          "execution_count": 9
        }
      ]
    },
    {
      "metadata": {
        "id": "c8rFtKENTPl8",
        "colab_type": "code",
        "outputId": "7e2f0b4c-6a9d-4ab0-b453-851c4d1f72e0",
        "colab": {
          "base_uri": "https://localhost:8080/",
          "height": 52
        }
      },
      "cell_type": "code",
      "source": [
        "# Tratando o erro de um elemento não pertencer a lista (tratamento de exceção)\n",
        "elemento = 8\n",
        "\n",
        "try:\n",
        "  i = lista.index(elemento)\n",
        "  print(\"O item\", elemento, \"encontra-se na posição\", i, \"da lista.\")\n",
        "except(ValueError):\n",
        "  print(\"O item\", elemento, \"não pertence à lista.\")\n",
        "  \n",
        "print(\"O programa segue com erro ou não.\")"
      ],
      "execution_count": 0,
      "outputs": [
        {
          "output_type": "stream",
          "text": [
            "O item 8 encontra-se na posição 5 da lista.\n",
            "O programa segue com erro ou não.\n"
          ],
          "name": "stdout"
        }
      ]
    },
    {
      "metadata": {
        "id": "fxOdtnZvUeg0",
        "colab_type": "code",
        "outputId": "72276dee-1829-43fe-ae20-61dabb54cd6e",
        "colab": {
          "base_uri": "https://localhost:8080/",
          "height": 34
        }
      },
      "cell_type": "code",
      "source": [
        "# Dicionários\n",
        "dicionario = {\"Aluno 1\": 3.5, \"Aluno 2\": 8.0}\n",
        "dicionario"
      ],
      "execution_count": 0,
      "outputs": [
        {
          "output_type": "execute_result",
          "data": {
            "text/plain": [
              "{'Aluno 1': 3.5, 'Aluno 2': 8.0}"
            ]
          },
          "metadata": {
            "tags": []
          },
          "execution_count": 29
        }
      ]
    },
    {
      "metadata": {
        "id": "wiqxGcNCYRd6",
        "colab_type": "code",
        "colab": {}
      },
      "cell_type": "code",
      "source": [
        "# Dicionário de dicionários\n",
        "notas = {\"Aluno 1\": {\"Cálculo 1\": 2.0, \"Python\": 9.0}, \"Aluno 2\": 8.0}"
      ],
      "execution_count": 0,
      "outputs": []
    },
    {
      "metadata": {
        "id": "wJ0W2vh6YpOY",
        "colab_type": "code",
        "outputId": "33575add-2fa0-4d36-c10e-f7e3a4e45bd8",
        "colab": {
          "base_uri": "https://localhost:8080/",
          "height": 34
        }
      },
      "cell_type": "code",
      "source": [
        "notas[\"Aluno 2\"]"
      ],
      "execution_count": 0,
      "outputs": [
        {
          "output_type": "execute_result",
          "data": {
            "text/plain": [
              "8.0"
            ]
          },
          "metadata": {
            "tags": []
          },
          "execution_count": 37
        }
      ]
    },
    {
      "metadata": {
        "id": "d64V2jL_Ys0-",
        "colab_type": "code",
        "outputId": "ddc9d196-17f3-484c-e175-b3820f307fc0",
        "colab": {
          "base_uri": "https://localhost:8080/",
          "height": 34
        }
      },
      "cell_type": "code",
      "source": [
        "notas[\"Aluno 1\"][\"Python\"]"
      ],
      "execution_count": 0,
      "outputs": [
        {
          "output_type": "execute_result",
          "data": {
            "text/plain": [
              "9.0"
            ]
          },
          "metadata": {
            "tags": []
          },
          "execution_count": 38
        }
      ]
    },
    {
      "metadata": {
        "id": "EvK_rQUJZUQU",
        "colab_type": "code",
        "outputId": "1935c933-e0de-4569-a8c8-34442eca3ce6",
        "colab": {
          "base_uri": "https://localhost:8080/",
          "height": 34
        }
      },
      "cell_type": "code",
      "source": [
        "# Essa busca no dicionário é bem mais rápida do que a que o Python faz nas listas\n",
        "\"Aluno 1\" in notas"
      ],
      "execution_count": 0,
      "outputs": [
        {
          "output_type": "execute_result",
          "data": {
            "text/plain": [
              "True"
            ]
          },
          "metadata": {
            "tags": []
          },
          "execution_count": 40
        }
      ]
    },
    {
      "metadata": {
        "id": "bi9TdUjPZaAc",
        "colab_type": "code",
        "outputId": "2e1b4f84-7987-4433-8917-9b1fdb968f4d",
        "colab": {
          "base_uri": "https://localhost:8080/",
          "height": 34
        }
      },
      "cell_type": "code",
      "source": [
        "aluno = \"Aluno 3\"\n",
        "try:\n",
        "  print(notas[aluno])\n",
        "except KeyError:\n",
        "  print(\"Aluno não encontrado.\")"
      ],
      "execution_count": 0,
      "outputs": [
        {
          "output_type": "stream",
          "text": [
            "Aluno não encontrado.\n"
          ],
          "name": "stdout"
        }
      ]
    },
    {
      "metadata": {
        "id": "yJYZLi4oaC-y",
        "colab_type": "code",
        "outputId": "08a963dd-2fc6-4767-a803-cddf1d0f08d9",
        "colab": {
          "base_uri": "https://localhost:8080/",
          "height": 34
        }
      },
      "cell_type": "code",
      "source": [
        "# Tuplas (elementos fixos)\n",
        "tupla = (0, 1)\n",
        "tupla\n"
      ],
      "execution_count": 0,
      "outputs": [
        {
          "output_type": "execute_result",
          "data": {
            "text/plain": [
              "(0, 1)"
            ]
          },
          "metadata": {
            "tags": []
          },
          "execution_count": 49
        }
      ]
    },
    {
      "metadata": {
        "id": "keDE0KT6ayUQ",
        "colab_type": "code",
        "outputId": "b3d37663-21be-48a0-e72b-8bd35bd17a93",
        "colab": {
          "base_uri": "https://localhost:8080/",
          "height": 34
        }
      },
      "cell_type": "code",
      "source": [
        "type(tupla)"
      ],
      "execution_count": 0,
      "outputs": [
        {
          "output_type": "execute_result",
          "data": {
            "text/plain": [
              "tuple"
            ]
          },
          "metadata": {
            "tags": []
          },
          "execution_count": 50
        }
      ]
    },
    {
      "metadata": {
        "id": "auDqA-LnbI1g",
        "colab_type": "code",
        "outputId": "62a87f1d-ae14-42a4-a61e-37b82c38a735",
        "colab": {
          "base_uri": "https://localhost:8080/",
          "height": 34
        }
      },
      "cell_type": "code",
      "source": [
        "# Conjuntos (elementos não ordenados* e sem repetição). *O Python 3 implementa os conjuntos com ordenação, mas isso pode mudar em implementações futuras. \n",
        "\n",
        "conjunto = {2, 1, 4, 8, 4, 3}\n",
        "\n",
        "conjunto"
      ],
      "execution_count": 0,
      "outputs": [
        {
          "output_type": "execute_result",
          "data": {
            "text/plain": [
              "{1, 2, 3, 4, 8}"
            ]
          },
          "metadata": {
            "tags": []
          },
          "execution_count": 70
        }
      ]
    },
    {
      "metadata": {
        "id": "3f81843kblm8",
        "colab_type": "code",
        "outputId": "8efe72ad-2650-45b8-db0b-d5d032b82dd1",
        "colab": {
          "base_uri": "https://localhost:8080/",
          "height": 34
        }
      },
      "cell_type": "code",
      "source": [
        "# Adicionar mais elementos à uma lista \n",
        "lista"
      ],
      "execution_count": 0,
      "outputs": [
        {
          "output_type": "execute_result",
          "data": {
            "text/plain": [
              "[1, 1, 2, 3, 5, 8, 13, 21, 34, 55, 89]"
            ]
          },
          "metadata": {
            "tags": []
          },
          "execution_count": 71
        }
      ]
    },
    {
      "metadata": {
        "id": "sLYbMKisb2eS",
        "colab_type": "code",
        "colab": {}
      },
      "cell_type": "code",
      "source": [
        "lista.append(89)"
      ],
      "execution_count": 0,
      "outputs": []
    },
    {
      "metadata": {
        "id": "uW3ZAuXzb9F8",
        "colab_type": "code",
        "outputId": "4513eb9b-952c-4f16-8583-bd7dc5b0d3a7",
        "colab": {
          "base_uri": "https://localhost:8080/",
          "height": 34
        }
      },
      "cell_type": "code",
      "source": [
        "lista"
      ],
      "execution_count": 0,
      "outputs": [
        {
          "output_type": "execute_result",
          "data": {
            "text/plain": [
              "[1, 1, 2, 3, 5, 8, 13, 21, 34, 55, 89, 89]"
            ]
          },
          "metadata": {
            "tags": []
          },
          "execution_count": 73
        }
      ]
    },
    {
      "metadata": {
        "id": "QNllI5Cpb-WM",
        "colab_type": "code",
        "outputId": "9a34055a-df62-40b9-b1f6-e4341fb702f3",
        "colab": {
          "base_uri": "https://localhost:8080/",
          "height": 34
        }
      },
      "cell_type": "code",
      "source": [
        "# Criando um conjunto a partir de uma lista\n",
        "\n",
        "conjunto = set(lista)\n",
        "conjunto"
      ],
      "execution_count": 0,
      "outputs": [
        {
          "output_type": "execute_result",
          "data": {
            "text/plain": [
              "{1, 2, 3, 5, 8, 13, 21, 34, 55, 89}"
            ]
          },
          "metadata": {
            "tags": []
          },
          "execution_count": 74
        }
      ]
    },
    {
      "metadata": {
        "id": "7PEmcdoCcLTQ",
        "colab_type": "code",
        "outputId": "cc1c9cb8-1d86-46aa-8ddd-6c0f15157887",
        "colab": {
          "base_uri": "https://localhost:8080/",
          "height": 34
        }
      },
      "cell_type": "code",
      "source": [
        "# Verificar se um elemento pertence a um conjunto\n",
        "\n",
        "5 in conjunto"
      ],
      "execution_count": 0,
      "outputs": [
        {
          "output_type": "execute_result",
          "data": {
            "text/plain": [
              "True"
            ]
          },
          "metadata": {
            "tags": []
          },
          "execution_count": 75
        }
      ]
    },
    {
      "metadata": {
        "id": "Yb9oMnN6cjxU",
        "colab_type": "code",
        "colab": {}
      },
      "cell_type": "code",
      "source": [
        ""
      ],
      "execution_count": 0,
      "outputs": []
    }
  ]
}