{
  "nbformat": 4,
  "nbformat_minor": 0,
  "metadata": {
    "colab": {
      "name": "nivelamentoMestrado_aula03.ipynb",
      "version": "0.3.2",
      "provenance": [],
      "collapsed_sections": [],
      "include_colab_link": true
    },
    "kernelspec": {
      "name": "python3",
      "display_name": "Python 3"
    }
  },
  "cells": [
    {
      "cell_type": "markdown",
      "metadata": {
        "id": "view-in-github",
        "colab_type": "text"
      },
      "source": [
        "<a href=\"https://colab.research.google.com/github/viniciusdssilva/mestrado/blob/master/nivelamentoMestrado_aula03.ipynb\" target=\"_parent\"><img src=\"https://colab.research.google.com/assets/colab-badge.svg\" alt=\"Open In Colab\"/></a>"
      ]
    },
    {
      "metadata": {
        "id": "Cob-wGe7YGeG",
        "colab_type": "code",
        "colab": {}
      },
      "cell_type": "code",
      "source": [
        "#Contador da aula anterior\n",
        "\n",
        "import requests\n",
        "import json\n",
        "\n",
        "\n",
        "lista = json.loads(requests.get(\"https://bit.ly/2RXuXsD\").text)\n",
        "#print(lista)\n",
        "\n",
        "dicionario = {}\n",
        "\n",
        "for elemento in lista:\n",
        "    if elemento in dicionario:\n",
        "        dicionario[elemento] += 1\n",
        "    else:\n",
        "        dicionario[elemento] = 1\n",
        "\n",
        "#print(dicionario)\n"
      ],
      "execution_count": 0,
      "outputs": []
    },
    {
      "metadata": {
        "id": "n7aqwhFHZCWD",
        "colab_type": "code",
        "colab": {}
      },
      "cell_type": "code",
      "source": [
        "#Contador mais simples\n",
        "\n",
        "from collections import Counter\n",
        "\n",
        "contador = Counter(lista)\n",
        "#contador"
      ],
      "execution_count": 0,
      "outputs": []
    },
    {
      "metadata": {
        "id": "4XRlF7xaZXmf",
        "colab_type": "code",
        "colab": {
          "base_uri": "https://localhost:8080/",
          "height": 54
        },
        "outputId": "24a20dce-c9bf-4007-b27b-fc57a366c954"
      },
      "cell_type": "code",
      "source": [
        "#Exibindo as chaves de um dicionário\n",
        "keys = contador.keys()\n",
        "keys"
      ],
      "execution_count": 10,
      "outputs": [
        {
          "output_type": "execute_result",
          "data": {
            "text/plain": [
              "dict_keys([13, 85, 2, 36, 48, 34, 10, 52, 68, 83, 38, 72, 82, 71, 87, 14, 93, 7, 53, 97, 80, 77, 29, 75, 88, 81, 37, 65, 32, 50, 30, 44, 61, 11, 66, 92, 95, 26, 31, 40, 9, 5, 39, 60, 94, 84, 46, 91, 99, 24, 0, 100, 89, 74, 55, 23, 25, 19, 15, 1, 28, 73, 69, 21, 4, 78, 47, 18, 16, 41, 86, 67, 35, 76, 70, 8, 27, 98, 79, 62, 56, 42, 96, 3, 49, 51, 6, 57, 64, 63, 90, 58, 12, 33, 59, 54, 22, 43, 17, 45, 20])"
            ]
          },
          "metadata": {
            "tags": []
          },
          "execution_count": 10
        }
      ]
    },
    {
      "metadata": {
        "id": "QfOxnjsmZovF",
        "colab_type": "code",
        "colab": {
          "base_uri": "https://localhost:8080/",
          "height": 54
        },
        "outputId": "103f09a0-33a0-461d-8670-35690713c709"
      },
      "cell_type": "code",
      "source": [
        "#Exibindo os valores de um dicionário\n",
        "values = contador.values()\n",
        "values"
      ],
      "execution_count": 11,
      "outputs": [
        {
          "output_type": "execute_result",
          "data": {
            "text/plain": [
              "dict_values([6, 12, 15, 12, 11, 10, 9, 14, 12, 14, 6, 9, 14, 8, 10, 19, 15, 15, 13, 7, 15, 4, 14, 7, 6, 8, 9, 10, 11, 14, 10, 7, 6, 10, 13, 13, 11, 18, 11, 9, 9, 9, 13, 12, 10, 9, 3, 6, 10, 7, 13, 12, 16, 14, 8, 6, 7, 9, 11, 10, 11, 13, 10, 8, 9, 9, 12, 8, 7, 14, 7, 9, 6, 13, 7, 7, 9, 12, 6, 10, 7, 9, 12, 5, 10, 12, 10, 9, 10, 10, 14, 8, 6, 10, 7, 12, 4, 9, 7, 5, 6])"
            ]
          },
          "metadata": {
            "tags": []
          },
          "execution_count": 11
        }
      ]
    },
    {
      "metadata": {
        "id": "wU5jNn8CZ118",
        "colab_type": "code",
        "colab": {
          "base_uri": "https://localhost:8080/",
          "height": 54
        },
        "outputId": "4e341078-b400-4aeb-a1ab-be438d9478db"
      },
      "cell_type": "code",
      "source": [
        "#Exibindo os itens de um dicionário. Os itens são exibidos como tuplas\n",
        "items = contador.items()\n",
        "items"
      ],
      "execution_count": 12,
      "outputs": [
        {
          "output_type": "execute_result",
          "data": {
            "text/plain": [
              "dict_items([(13, 6), (85, 12), (2, 15), (36, 12), (48, 11), (34, 10), (10, 9), (52, 14), (68, 12), (83, 14), (38, 6), (72, 9), (82, 14), (71, 8), (87, 10), (14, 19), (93, 15), (7, 15), (53, 13), (97, 7), (80, 15), (77, 4), (29, 14), (75, 7), (88, 6), (81, 8), (37, 9), (65, 10), (32, 11), (50, 14), (30, 10), (44, 7), (61, 6), (11, 10), (66, 13), (92, 13), (95, 11), (26, 18), (31, 11), (40, 9), (9, 9), (5, 9), (39, 13), (60, 12), (94, 10), (84, 9), (46, 3), (91, 6), (99, 10), (24, 7), (0, 13), (100, 12), (89, 16), (74, 14), (55, 8), (23, 6), (25, 7), (19, 9), (15, 11), (1, 10), (28, 11), (73, 13), (69, 10), (21, 8), (4, 9), (78, 9), (47, 12), (18, 8), (16, 7), (41, 14), (86, 7), (67, 9), (35, 6), (76, 13), (70, 7), (8, 7), (27, 9), (98, 12), (79, 6), (62, 10), (56, 7), (42, 9), (96, 12), (3, 5), (49, 10), (51, 12), (6, 10), (57, 9), (64, 10), (63, 10), (90, 14), (58, 8), (12, 6), (33, 10), (59, 7), (54, 12), (22, 4), (43, 9), (17, 7), (45, 5), (20, 6)])"
            ]
          },
          "metadata": {
            "tags": []
          },
          "execution_count": 12
        }
      ]
    },
    {
      "metadata": {
        "id": "0v5uA-tDZ5-s",
        "colab_type": "code",
        "colab": {
          "base_uri": "https://localhost:8080/",
          "height": 68
        },
        "outputId": "82b2256c-e464-43d2-a8be-3369db2f669a"
      },
      "cell_type": "code",
      "source": [
        "#Percorrendo tuplas\n",
        "\n",
        "lista_tuplas = [(1,2),(3,4),(5,6)]\n",
        "for chave,valor in lista_tuplas:\n",
        "  print(valor)"
      ],
      "execution_count": 14,
      "outputs": [
        {
          "output_type": "stream",
          "text": [
            "2\n",
            "4\n",
            "6\n"
          ],
          "name": "stdout"
        }
      ]
    },
    {
      "metadata": {
        "id": "a6e9GTtBafSh",
        "colab_type": "code",
        "colab": {
          "base_uri": "https://localhost:8080/",
          "height": 187
        },
        "outputId": "8429f7cc-5df1-462d-b369-f789d5208a88"
      },
      "cell_type": "code",
      "source": [
        "#Ordenando palavras\n",
        "import requests\n",
        "from collections import Counter\n",
        "\n",
        "\n",
        "texto = requests.get(\"https://bit.ly/2Cu73N6\").text\n",
        "\n",
        "palavras = texto.split()\n",
        "#texto.split() == texto.split(' '). texto.split() também leva em consideração as tabulações e quebras de linha\n",
        "\n",
        "contador_palavras = Counter(palavras)\n",
        "contador_palavras.most_common(10)"
      ],
      "execution_count": 23,
      "outputs": [
        {
          "output_type": "execute_result",
          "data": {
            "text/plain": [
              "[('the', 7),\n",
              " ('to', 6),\n",
              " ('you', 5),\n",
              " ('We', 4),\n",
              " ('Docker', 4),\n",
              " ('Partner', 4),\n",
              " ('our', 4),\n",
              " ('and', 4),\n",
              " ('on', 3),\n",
              " ('are', 2)]"
            ]
          },
          "metadata": {
            "tags": []
          },
          "execution_count": 23
        }
      ]
    },
    {
      "metadata": {
        "id": "rVV_4LbIa6Mu",
        "colab_type": "code",
        "colab": {
          "base_uri": "https://localhost:8080/",
          "height": 34
        },
        "outputId": "819d2c85-d789-4a70-ded4-4c8417b1aac1"
      },
      "cell_type": "code",
      "source": [
        "#Funções\n",
        "\n",
        "def quadrado(x):\n",
        "  return x * x\n",
        "\n",
        "quadrado (2)"
      ],
      "execution_count": 25,
      "outputs": [
        {
          "output_type": "execute_result",
          "data": {
            "text/plain": [
              "4"
            ]
          },
          "metadata": {
            "tags": []
          },
          "execution_count": 25
        }
      ]
    },
    {
      "metadata": {
        "id": "9tANX-sAa8hM",
        "colab_type": "code",
        "colab": {
          "base_uri": "https://localhost:8080/",
          "height": 34
        },
        "outputId": "84c5379f-bd00-4d34-bc3d-ddd534027993"
      },
      "cell_type": "code",
      "source": [
        "entrada = [10,20,1]\n",
        "\n",
        "tipo = type(entrada)\n",
        "\n",
        "tipo\n",
        "\n",
        "if tipo == type([]):\n",
        "#print(\"É uma lista\")"
      ],
      "execution_count": 38,
      "outputs": [
        {
          "output_type": "execute_result",
          "data": {
            "text/plain": [
              "list"
            ]
          },
          "metadata": {
            "tags": []
          },
          "execution_count": 38
        }
      ]
    },
    {
      "metadata": {
        "id": "Rf6uYD9OjMti",
        "colab_type": "code",
        "colab": {
          "base_uri": "https://localhost:8080/",
          "height": 34
        },
        "outputId": "d8449ff7-4f3a-4aaa-ede5-3b27870d38d4"
      },
      "cell_type": "code",
      "source": [
        "from collections import Counter\n",
        "\n",
        "\n",
        "def contaCoisas(entrada):\n",
        "    if type(entrada) == type([]):\n",
        "        contador = contaLista(entrada)\n",
        "    elif type(entrada) == type(str()):\n",
        "        contador = contaTexto(entrada)\n",
        "    else:\n",
        "        print(\"A entrada deve ser uma lista ou um texto.\")\n",
        "\n",
        "    return contador\n",
        "\n",
        "\n",
        "def contaLista(lista):\n",
        "    return Counter(lista)\n",
        "\n",
        "\n",
        "def contaTexto(texto):\n",
        "    return Counter(texto.split())\n",
        "\n",
        "\n",
        "contador = contaCoisas([1,2,3,4,2,7,10,11,3,10,2])\n",
        "\n",
        "print(contador)\n",
        "  \n",
        "  "
      ],
      "execution_count": 47,
      "outputs": [
        {
          "output_type": "stream",
          "text": [
            "Counter({2: 3, 3: 2, 10: 2, 1: 1, 4: 1, 7: 1, 11: 1})\n"
          ],
          "name": "stdout"
        }
      ]
    },
    {
      "metadata": {
        "id": "BSHYCfe7nvKy",
        "colab_type": "code",
        "colab": {}
      },
      "cell_type": "code",
      "source": [
        ""
      ],
      "execution_count": 0,
      "outputs": []
    }
  ]
}